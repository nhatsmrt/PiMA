{
 "cells": [
  {
   "cell_type": "markdown",
   "metadata": {},
   "source": [
    "# Tutorial: Bài toán phân loại với thuật toán Softmax Regression"
   ]
  },
  {
   "cell_type": "markdown",
   "metadata": {},
   "source": [
    "Ở tutorial này, chúng ta sẽ từng bước xây dựng một mô hình máy học bằng ngôn ngữ python và thư viện tensorflow để giải quyết bài toán phân loại hoa iris.\n",
    "<br>\n",
    "Thuật toán được sử dụng trong bài sẽ là thuật toán softmax regression.\n",
    "<br>\n",
    "Đầu tiên, ta cần import các thư viện cần sử dụng:"
   ]
  },
  {
   "cell_type": "code",
   "execution_count": 1,
   "metadata": {
    "collapsed": false
   },
   "outputs": [
    {
     "name": "stderr",
     "output_type": "stream",
     "text": [
      "/Users/nhat/anaconda/lib/python3.5/importlib/_bootstrap.py:222: RuntimeWarning: compiletime version 3.6 of module 'tensorflow.python.framework.fast_tensor_util' does not match runtime version 3.5\n",
      "  return f(*args, **kwds)\n",
      "/Users/nhat/anaconda/lib/python3.5/site-packages/h5py/__init__.py:34: FutureWarning: Conversion of the second argument of issubdtype from `float` to `np.floating` is deprecated. In future, it will be treated as `np.float64 == np.dtype(float).type`.\n",
      "  from ._conv import register_converters as _register_converters\n"
     ]
    }
   ],
   "source": [
    "import numpy as np\n",
    "from sklearn.datasets import load_iris\n",
    "from numpy.linalg import inv\n",
    "from sklearn.metrics import mean_squared_error\n",
    "import tensorflow as tf\n",
    "from sklearn.linear_model import LogisticRegression\n",
    "from sklearn.model_selection import train_test_split\n",
    "from sklearn.preprocessing import LabelBinarizer, StandardScaler"
   ]
  },
  {
   "cell_type": "markdown",
   "metadata": {},
   "source": [
    "Dữ liệu mà tutorial này sử dụng sẽ là bộ dữ liệu iris. Bộ dữ liệu này gồm 150 điểm dữ liệu với 4 biến và được phân thành 3 lớp.\n",
    "<br>\n",
    "Bộ dữ liệu này đi kèm với thư viện scikit-learn và có thể được load như sau:"
   ]
  },
  {
   "cell_type": "code",
   "execution_count": 2,
   "metadata": {
    "collapsed": true
   },
   "outputs": [],
   "source": [
    "iris = load_iris()\n",
    "X = iris['data']\n",
    "y = iris['target']"
   ]
  },
  {
   "cell_type": "markdown",
   "metadata": {},
   "source": [
    "Tiếp đến, chúng ta cần tiền xử lý dữ liệu. Chú ý rằng các biến của bộ dữ liệu iris đã được tiền xử lý, nên chúng ta chỉ cần tách một phần dữ liệu ra để làm dữ liệu test:"
   ]
  },
  {
   "cell_type": "code",
   "execution_count": 3,
   "metadata": {
    "collapsed": true
   },
   "outputs": [],
   "source": [
    "X_train, X_test, y_train, y_test = train_test_split(X, y, test_size = 0.2, random_state = 32)"
   ]
  },
  {
   "cell_type": "markdown",
   "metadata": {},
   "source": [
    "Để giải quyết bài toán phân loại, chúng ta sẽ sử dụng thuật toán softmax regression. Đầu tiên, chúng ta sẽ sử dụng thư viện sklearn:"
   ]
  },
  {
   "cell_type": "code",
   "execution_count": 4,
   "metadata": {
    "collapsed": true
   },
   "outputs": [],
   "source": [
    "sklearn_model = LogisticRegression(solver = 'lbfgs')\n",
    "sklearn_model.fit(X_train, y_train)\n",
    "predictions_sklearn = sklearn_model.predict(X_test)"
   ]
  },
  {
   "cell_type": "markdown",
   "metadata": {},
   "source": [
    "Chúng ta có thể kiểm tra độ chính xác của thuật toán như sau:"
   ]
  },
  {
   "cell_type": "code",
   "execution_count": 5,
   "metadata": {
    "collapsed": false
   },
   "outputs": [
    {
     "name": "stdout",
     "output_type": "stream",
     "text": [
      "Accuracy for Sklearn Model:\n",
      "0.9333333333333333\n"
     ]
    }
   ],
   "source": [
    "print(\"Accuracy for Sklearn Model:\")\n",
    "print(np.average(np.equal(predictions_sklearn, y_test)))"
   ]
  },
  {
   "cell_type": "markdown",
   "metadata": {},
   "source": [
    "Để hiểu kỹ hơn về thuật toán, chúng ta sẽ tự lập trình thuật toán bằng thư viện tensorflow. Nhắc lại phương trình của mô hình:\n",
    "$$ h(x) = \\sigma(Wx + b) $$\n",
    "với $\\sigma$ là hàm softmax, cho bởi công thức:\n",
    "$$\\sigma \\left(\\begin{bmatrix} x_1 \\\\ x_2 \\\\x_3 \\end{bmatrix} \\right) = \\begin{bmatrix} \\frac{e^{x_1}}{e^{x_1} + e^{x_2} + e^{x_3}} \\\\ \\frac{e^{x_2}}{e^{x_1} + e^{x_2} + e^{x_3}} \\\\ \\frac{e^{x_3}}{e^{x_1} + e^{x_2} + e^{x_3}} \\end{bmatrix}$$\n",
    "$W \\in \\mathbb{R}^{150 \\times 3}, b \\in \\mathbb{R}^3$ là các ma trận trọng số.\n",
    "<br>\n",
    "Hàm mất mát của thuật toán là hàm cross entropy:\n",
    "$$ J(W, b) = -\\sum_{i = 1}^N \\sum_{c = 1}^3 y_{i, c} \\log h(x_i)_c $$\n",
    "Chúng ta sẽ implement thuật toán softmax bằng thư viện tensorflow. Hàm __init__ có tác dụng vẽ đồ thị tính toán (computational graph) của thuật toán. Hàm fit có tác dụng tối thiểu hàm loss bằng thuật toán Adam (đã được lập trình sẵn bởi thư viện tensorflow). Hàm predict dự đoán nhãn từ dữ liệu đầu vào x. Hàm evaluate đánh giá độ chính xác của mô hình với dữ liệu test."
   ]
  },
  {
   "cell_type": "code",
   "execution_count": 6,
   "metadata": {
    "collapsed": true
   },
   "outputs": [],
   "source": [
    "class SoftmaxRegression:\n",
    "    def __init__(self, n_features, n_classes):\n",
    "        self._n_classes = n_classes\n",
    "\n",
    "        self._X = tf.placeholder(shape = [None, n_features], dtype = tf.float32)\n",
    "        self._W = tf.get_variable(name = \"W\", shape = [n_features, n_classes])\n",
    "        self._b = tf.get_variable(name = \"b\", shape = [n_classes])\n",
    "\n",
    "        self._z = tf.matmul(self._X, self._W) + self._b\n",
    "        self._op = tf.nn.softmax(self._z)\n",
    "\n",
    "    def fit(self, X_train, y_train, n_epochs = 10000):\n",
    "        self._lb = LabelBinarizer()\n",
    "        y_train_enc = self._lb.fit_transform(y_train)\n",
    "        self._y = tf.placeholder(shape = [None, self._n_classes], dtype = tf.float32)\n",
    "        self._loss = tf.nn.softmax_cross_entropy_with_logits_v2(labels = self._y,\n",
    "                                                                logits = self._z)\n",
    "\n",
    "        self._optimizer = tf.train.AdamOptimizer()\n",
    "        train_step = self._optimizer.minimize(self._loss)\n",
    "\n",
    "        self._sess = tf.Session()\n",
    "        self._sess.run(tf.global_variables_initializer())\n",
    "\n",
    "        for _ in range(n_epochs):\n",
    "            self._sess.run(train_step, feed_dict = {self._X: X_train,\n",
    "                                                    self._y: y_train_enc})\n",
    "\n",
    "\n",
    "    def predict(self, X_test):\n",
    "        proba = self._sess.run(self._op, feed_dict = {self._X: X_test})\n",
    "        return np.argmax(proba, axis = -1)\n",
    "\n",
    "    def evaluate(self, X_test, y_test):\n",
    "        y_test_enc = self._lb.transform(y_test)\n",
    "        accuracy = tf.reduce_mean(tf.cast(tf.equal(tf.argmax(self._y, axis=-1),\n",
    "                                                   tf.argmax(self._op, axis=-1)), tf.float32))\n",
    "        return self._sess.run(accuracy, feed_dict = {self._X: X_test, self._y: y_test_enc})"
   ]
  },
  {
   "cell_type": "markdown",
   "metadata": {},
   "source": [
    "Bây giờ chúng ta sẽ thử tính độ chính xác của mô hình:"
   ]
  },
  {
   "cell_type": "code",
   "execution_count": 7,
   "metadata": {
    "collapsed": false
   },
   "outputs": [
    {
     "name": "stdout",
     "output_type": "stream",
     "text": [
      "1.0\n",
      "0.98\n"
     ]
    }
   ],
   "source": [
    "tf_model = SoftmaxRegression(n_features = 4, n_classes = 3)\n",
    "tf_model.fit(X_train, y_train)\n",
    "print(tf_model.evaluate(X_test, y_test))\n",
    "print(tf_model.evaluate(X, y))"
   ]
  }
 ],
 "metadata": {
  "anaconda-cloud": {},
  "kernelspec": {
   "display_name": "Python [conda env:anaconda]",
   "language": "python",
   "name": "conda-env-anaconda-py"
  },
  "language_info": {
   "codemirror_mode": {
    "name": "ipython",
    "version": 3
   },
   "file_extension": ".py",
   "mimetype": "text/x-python",
   "name": "python",
   "nbconvert_exporter": "python",
   "pygments_lexer": "ipython3",
   "version": "3.5.2"
  }
 },
 "nbformat": 4,
 "nbformat_minor": 1
}
